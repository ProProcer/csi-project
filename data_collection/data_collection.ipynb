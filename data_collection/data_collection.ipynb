{
 "cells": [
  {
   "cell_type": "code",
   "execution_count": 4,
   "id": "6282bc9f-2602-41ef-b554-b75932c10064",
   "metadata": {},
   "outputs": [],
   "source": [
    "import serial\n",
    "import csv\n",
    "import os\n",
    "from datetime import datetime, timedelta\n",
    "import time"
   ]
  },
  {
   "cell_type": "code",
   "execution_count": 6,
   "id": "931b0610-a2b0-4207-96ec-875fb8b9a344",
   "metadata": {},
   "outputs": [],
   "source": [
    "\n",
    "def reset_esp32(port, baudrate=921600):\n",
    "    \"\"\"Resets an ESP32 using the RTS and DTR lines of the serial port.\n",
    "\n",
    "    Args:\n",
    "        port: The serial port (e.g., \"COM3\" on Windows, \"/dev/ttyUSB0\" on Linux).\n",
    "        baudrate: The baud rate (typically 115200 for communication,\n",
    "                  but can be higher for flashing).\n",
    "    \"\"\"\n",
    "    try:\n",
    "        with serial.Serial(port, baudrate) as ser:\n",
    "            # Method 1 (esptool.py compatible):\n",
    "            ser.dtr = False  # DTR = 0: Set EN (reset) to HIGH\n",
    "            ser.rts = True   # RTS = 1, Set IO0 (GPIO0) to LOW: BOOT mode\n",
    "            time.sleep(0.1)\n",
    "            ser.dtr = True   # DTR = 1, Set EN to LOW: Reset chip\n",
    "            time.sleep(0.1)  # Wait for the chip to reset\n",
    "            ser.dtr = False  # DTR = 0, set EN to HIGH\n",
    "            ser.rts = False # Set IO0 to HIGH, back to normal mode.\n",
    "            time.sleep(0.1)\n",
    "\n",
    "            # Method 2 (Simple DTR toggle - might work in some cases):\n",
    "            # ser.dtr = True   # Assert DTR (often connected to reset)\n",
    "            # time.sleep(0.1)\n",
    "            # ser.dtr = False  # De-assert DTR\n",
    "            # time.sleep(0.1)\n",
    "            print(f\"ESP32 reset via DTR/RTS on port {port}\")\n",
    "\n",
    "    except serial.SerialException as e:\n",
    "        print(f\"Error resetting ESP32: {e}\")\n"
   ]
  },
  {
   "cell_type": "code",
   "execution_count": 19,
   "id": "e3ddffe0-d363-4d8a-b9b9-65e8e84d2e3a",
   "metadata": {},
   "outputs": [],
   "source": [
    "def collect_csi_data(filepath, port, baudrate = 921600, seconds = 100, minutes = 0, hours = 0):\n",
    "    with serial.Serial(port, baudrate) as ser:\n",
    "        header = \"type,seq,mac,rssi,rate,sig_mode,mcs,bandwidth,smoothing,not_sounding,aggregation,stbc,fec_coding,sgi,noise_floor,ampdu_cnt,channel,secondary_channel,local_timestamp,ant,sig_len,rx_state,len,first_word,data,datetime\"\n",
    "        \n",
    "        start_time = datetime.now()\n",
    "        \n",
    "        filename = filepath\n",
    "        temp_file_path = \"temp_csi_data.csv\"\n",
    "        \n",
    "        if not os.path.exists(filename):\n",
    "            with open(filename, 'w', encoding = 'utf-8') as f:\n",
    "                f.write(header + '\\n')\n",
    "                \n",
    "        \n",
    "        if ser.in_waiting > 0:\n",
    "            ser.reset_input_buffer()\n",
    "        \n",
    "        num_collected = 0\n",
    "        \n",
    "        while (datetime.now() - start_time) <= timedelta(seconds = seconds, minutes = minutes, hours = hours):\n",
    "            if ser.in_waiting > 0:\n",
    "                try:\n",
    "                    line = ser.readline().decode('utf-8').strip()\n",
    "                except:\n",
    "                    print(\"DECODE FAILED\")\n",
    "                    continue\n",
    "                line = line + f',{datetime.now()}'\n",
    "                if not line.startswith(\"CSI_DATA\"):\n",
    "                    continue\n",
    "                with open(filename, 'a', newline = '', encoding = 'utf-8') as f:\n",
    "                    f.write(line + '\\n')       \n",
    "        \n",
    "                num_collected += 1\n",
    "\n",
    "                if num_collected % 5 == 0:\n",
    "                    with open(temp_file_path, 'w', newline = '', encoding = 'utf-8') as f:\n",
    "                        f.write(header + '\\n')\n",
    "                        f.write(line + '\\n')  \n",
    "                \n",
    "                if num_collected % 100 == 0:\n",
    "                    print(f\"{datetime.now()} Number of CSI data collected : {num_collected}\")\n",
    "        os.remove(temp_file_path)\n",
    "        \n",
    "        print(f\"Total : {num_collected}\")\n",
    "    "
   ]
  },
  {
   "cell_type": "code",
   "execution_count": null,
   "id": "11f57db3-eff0-43e7-9442-2fcbf428389b",
   "metadata": {
    "scrolled": true
   },
   "outputs": [
    {
     "name": "stdout",
     "output_type": "stream",
     "text": [
      "ESP32 reset via DTR/RTS on port COM7\n",
      "2025-03-01 09:37:29.578748 Number of CSI data collected : 100\n",
      "2025-03-01 09:37:32.780743 Number of CSI data collected : 200\n",
      "2025-03-01 09:37:36.017797 Number of CSI data collected : 300\n",
      "2025-03-01 09:37:39.313769 Number of CSI data collected : 400\n",
      "2025-03-01 09:37:42.581467 Number of CSI data collected : 500\n",
      "2025-03-01 09:37:45.886396 Number of CSI data collected : 600\n",
      "2025-03-01 09:37:49.154686 Number of CSI data collected : 700\n",
      "2025-03-01 09:37:52.356102 Number of CSI data collected : 800\n",
      "2025-03-01 09:37:55.650394 Number of CSI data collected : 900\n"
     ]
    }
   ],
   "source": [
    "PORT = \"COM7\"\n",
    "BAUDRATE = \"921600\"\n",
    "FILEPATH = \"csi_data.csv\"\n",
    "\n",
    "\n",
    "reset_esp32(PORT, BAUDRATE)\n",
    "collect_csi_data(FILEPATH, PORT, BAUDRATE)"
   ]
  },
  {
   "cell_type": "code",
   "execution_count": 1,
   "id": "cedfab3c-b095-48f4-82d1-2a792d10da0b",
   "metadata": {},
   "outputs": [],
   "source": [
    "import multiprocessing"
   ]
  },
  {
   "cell_type": "code",
   "execution_count": 2,
   "id": "7fd8187e-3329-43c0-8c2b-157c54c8b290",
   "metadata": {},
   "outputs": [],
   "source": [
    "res_queue = multiprocessing.Queue()\n",
    "res_queue.put(7)"
   ]
  },
  {
   "cell_type": "code",
   "execution_count": 3,
   "id": "c4bc9f04-b641-4d5b-a8f6-853437d72062",
   "metadata": {},
   "outputs": [],
   "source": [
    "res_queue.put(8)"
   ]
  },
  {
   "cell_type": "code",
   "execution_count": null,
   "id": "17d9edd1-d85a-4442-b134-1f66d450ed2e",
   "metadata": {},
   "outputs": [],
   "source": []
  }
 ],
 "metadata": {
  "kernelspec": {
   "display_name": "fastbook",
   "language": "python",
   "name": "fastbook"
  },
  "language_info": {
   "codemirror_mode": {
    "name": "ipython",
    "version": 3
   },
   "file_extension": ".py",
   "mimetype": "text/x-python",
   "name": "python",
   "nbconvert_exporter": "python",
   "pygments_lexer": "ipython3",
   "version": "3.12.7"
  }
 },
 "nbformat": 4,
 "nbformat_minor": 5
}
