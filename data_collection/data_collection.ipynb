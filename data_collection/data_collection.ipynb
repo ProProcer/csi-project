{
 "cells": [
  {
   "cell_type": "code",
   "execution_count": 2,
   "id": "6282bc9f-2602-41ef-b554-b75932c10064",
   "metadata": {},
   "outputs": [],
   "source": [
    "import serial\n",
    "import csv\n",
    "import os\n",
    "from datetime import datetime, timedelta\n",
    "import time"
   ]
  },
  {
   "cell_type": "code",
   "execution_count": 3,
   "id": "931b0610-a2b0-4207-96ec-875fb8b9a344",
   "metadata": {},
   "outputs": [],
   "source": [
    "\n",
    "def reset_esp32(port, baudrate=921600):\n",
    "    \"\"\"Resets an ESP32 using the RTS and DTR lines of the serial port.\n",
    "\n",
    "    Args:\n",
    "        port: The serial port (e.g., \"COM3\" on Windows, \"/dev/ttyUSB0\" on Linux).\n",
    "        baudrate: The baud rate (typically 115200 for communication,\n",
    "                  but can be higher for flashing).\n",
    "    \"\"\"\n",
    "    try:\n",
    "        with serial.Serial(port, baudrate) as ser:\n",
    "            # Method 1 (esptool.py compatible):\n",
    "            ser.dtr = False  # DTR = 0: Set EN (reset) to HIGH\n",
    "            ser.rts = True   # RTS = 1, Set IO0 (GPIO0) to LOW: BOOT mode\n",
    "            time.sleep(0.1)\n",
    "            ser.dtr = True   # DTR = 1, Set EN to LOW: Reset chip\n",
    "            time.sleep(0.1)  # Wait for the chip to reset\n",
    "            ser.dtr = False  # DTR = 0, set EN to HIGH\n",
    "            ser.rts = False # Set IO0 to HIGH, back to normal mode.\n",
    "            time.sleep(0.1)\n",
    "\n",
    "            # Method 2 (Simple DTR toggle - might work in some cases):\n",
    "            # ser.dtr = True   # Assert DTR (often connected to reset)\n",
    "            # time.sleep(0.1)\n",
    "            # ser.dtr = False  # De-assert DTR\n",
    "            # time.sleep(0.1)\n",
    "            print(f\"ESP32 reset via DTR/RTS on port {port}\")\n",
    "\n",
    "    except serial.SerialException as e:\n",
    "        print(f\"Error resetting ESP32: {e}\")\n"
   ]
  },
  {
   "cell_type": "code",
   "execution_count": 4,
   "id": "e3ddffe0-d363-4d8a-b9b9-65e8e84d2e3a",
   "metadata": {},
   "outputs": [],
   "source": [
    "def collect_csi_data(filepath, port, baudrate = 921600, seconds = 100, minutes = 0, hours = 0):\n",
    "    with serial.Serial(port, baudrate) as ser:\n",
    "        header = \"type,seq,mac,rssi,rate,sig_mode,mcs,bandwidth,smoothing,not_sounding,aggregation,stbc,fec_coding,sgi,noise_floor,ampdu_cnt,channel,secondary_channel,local_timestamp,ant,sig_len,rx_state,len,first_word,data,datetime\"\n",
    "        \n",
    "        start_time = datetime.now()\n",
    "        \n",
    "        filename = filepath\n",
    "        temp_file_path = \"temp_csi_data.csv\"\n",
    "        \n",
    "        if not os.path.exists(filename):\n",
    "            with open(filename, 'w', encoding = 'utf-8') as f:\n",
    "                f.write(header + '\\n')\n",
    "                \n",
    "        \n",
    "        if ser.in_waiting > 0:\n",
    "            ser.reset_input_buffer()\n",
    "        \n",
    "        num_collected = 0\n",
    "        \n",
    "        while (datetime.now() - start_time) <= timedelta(seconds = seconds, minutes = minutes, hours = hours):\n",
    "            if ser.in_waiting > 0:\n",
    "                try:\n",
    "                    line = ser.readline().decode('utf-8').strip()\n",
    "                except:\n",
    "                    print(\"DECODE FAILED\")\n",
    "                    continue\n",
    "                line = line + f',{datetime.now()}'\n",
    "                if not line.startswith(\"CSI_DATA\"):\n",
    "                    continue\n",
    "                with open(filename, 'a', newline = '', encoding = 'utf-8') as f:\n",
    "                    f.write(line + '\\n')       \n",
    "        \n",
    "                num_collected += 1\n",
    "\n",
    "                if num_collected % 5 == 0:\n",
    "                    with open(temp_file_path, 'w', newline = '', encoding = 'utf-8') as f:\n",
    "                        f.write(header + '\\n')\n",
    "                        f.write(line + '\\n')  \n",
    "                \n",
    "                if num_collected % 100 == 0:\n",
    "                    print(f\"{datetime.now()} Number of CSI data collected : {num_collected}\")\n",
    "        os.remove(temp_file_path)\n",
    "        \n",
    "        print(f\"Total : {num_collected}\")\n",
    "    "
   ]
  },
  {
   "cell_type": "code",
   "execution_count": 9,
   "id": "11f57db3-eff0-43e7-9442-2fcbf428389b",
   "metadata": {
    "scrolled": true
   },
   "outputs": [
    {
     "name": "stdout",
     "output_type": "stream",
     "text": [
      "ESP32 reset via DTR/RTS on port COM7\n",
      "2025-03-03 17:55:27.093467 Number of CSI data collected : 100\n",
      "2025-03-03 17:55:30.162894 Number of CSI data collected : 200\n",
      "2025-03-03 17:55:33.133380 Number of CSI data collected : 300\n",
      "2025-03-03 17:55:35.840105 Number of CSI data collected : 400\n",
      "2025-03-03 17:55:39.046394 Number of CSI data collected : 500\n",
      "2025-03-03 17:55:42.246989 Number of CSI data collected : 600\n",
      "2025-03-03 17:55:45.507490 Number of CSI data collected : 700\n",
      "2025-03-03 17:55:48.676742 Number of CSI data collected : 800\n",
      "2025-03-03 17:55:51.784264 Number of CSI data collected : 900\n",
      "2025-03-03 17:55:54.984088 Number of CSI data collected : 1000\n",
      "2025-03-03 17:55:58.217180 Number of CSI data collected : 1100\n",
      "2025-03-03 17:56:01.455193 Number of CSI data collected : 1200\n",
      "2025-03-03 17:56:04.618081 Number of CSI data collected : 1300\n",
      "2025-03-03 17:56:07.783790 Number of CSI data collected : 1400\n",
      "2025-03-03 17:56:10.755082 Number of CSI data collected : 1500\n",
      "2025-03-03 17:56:13.729434 Number of CSI data collected : 1600\n",
      "2025-03-03 17:56:16.564649 Number of CSI data collected : 1700\n",
      "2025-03-03 17:56:19.534773 Number of CSI data collected : 1800\n",
      "2025-03-03 17:56:22.607283 Number of CSI data collected : 1900\n",
      "Total : 1947\n"
     ]
    }
   ],
   "source": [
    "PORT = \"COM7\"\n",
    "BAUDRATE = \"921600\"\n",
    "FILEPATH = \"standing/standing_MAKERSPACE_csidata.csv\"\n",
    "\n",
    "\n",
    "reset_esp32(PORT, BAUDRATE)\n",
    "time.sleep(10)\n",
    "collect_csi_data(FILEPATH, PORT, BAUDRATE, seconds = 60)"
   ]
  },
  {
   "cell_type": "code",
   "execution_count": null,
   "id": "8e1d6caa-1f3d-4a2c-9d65-688099b48828",
   "metadata": {},
   "outputs": [],
   "source": []
  },
  {
   "cell_type": "code",
   "execution_count": null,
   "id": "d592cb23-4a7d-45c6-b3ec-ecc2888c7a62",
   "metadata": {},
   "outputs": [],
   "source": []
  }
 ],
 "metadata": {
  "kernelspec": {
   "display_name": "fastbook",
   "language": "python",
   "name": "fastbook"
  },
  "language_info": {
   "codemirror_mode": {
    "name": "ipython",
    "version": 3
   },
   "file_extension": ".py",
   "mimetype": "text/x-python",
   "name": "python",
   "nbconvert_exporter": "python",
   "pygments_lexer": "ipython3",
   "version": "3.12.7"
  }
 },
 "nbformat": 4,
 "nbformat_minor": 5
}
