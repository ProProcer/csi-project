{
 "cells": [
  {
   "cell_type": "code",
   "execution_count": 1,
   "id": "6282bc9f-2602-41ef-b554-b75932c10064",
   "metadata": {},
   "outputs": [],
   "source": [
    "import serial\n",
    "import csv\n",
    "import os\n",
    "from datetime import datetime, timedelta\n",
    "import time"
   ]
  },
  {
   "cell_type": "code",
   "execution_count": 2,
   "id": "931b0610-a2b0-4207-96ec-875fb8b9a344",
   "metadata": {},
   "outputs": [],
   "source": [
    "\n",
    "def reset_esp32(port, baudrate=921600):\n",
    "    \"\"\"Resets an ESP32 using the RTS and DTR lines of the serial port.\n",
    "\n",
    "    Args:\n",
    "        port: The serial port (e.g., \"COM3\" on Windows, \"/dev/ttyUSB0\" on Linux).\n",
    "        baudrate: The baud rate (typically 115200 for communication,\n",
    "                  but can be higher for flashing).\n",
    "    \"\"\"\n",
    "    try:\n",
    "        with serial.Serial(port, baudrate) as ser:\n",
    "            # Method 1 (esptool.py compatible):\n",
    "            ser.dtr = False  # DTR = 0: Set EN (reset) to HIGH\n",
    "            ser.rts = True   # RTS = 1, Set IO0 (GPIO0) to LOW: BOOT mode\n",
    "            time.sleep(0.1)\n",
    "            ser.dtr = True   # DTR = 1, Set EN to LOW: Reset chip\n",
    "            time.sleep(0.1)  # Wait for the chip to reset\n",
    "            ser.dtr = False  # DTR = 0, set EN to HIGH\n",
    "            ser.rts = False # Set IO0 to HIGH, back to normal mode.\n",
    "            time.sleep(0.1)\n",
    "\n",
    "            # Method 2 (Simple DTR toggle - might work in some cases):\n",
    "            # ser.dtr = True   # Assert DTR (often connected to reset)\n",
    "            # time.sleep(0.1)\n",
    "            # ser.dtr = False  # De-assert DTR\n",
    "            # time.sleep(0.1)\n",
    "            print(f\"ESP32 reset via DTR/RTS on port {port}\")\n",
    "\n",
    "    except serial.SerialException as e:\n",
    "        print(f\"Error resetting ESP32: {e}\")\n"
   ]
  },
  {
   "cell_type": "code",
   "execution_count": 8,
   "id": "e3ddffe0-d363-4d8a-b9b9-65e8e84d2e3a",
   "metadata": {},
   "outputs": [],
   "source": [
    "def collect_csi_data(filepath, port, baudrate = 921600, seconds = 100, minutes = 0, hours = 0):\n",
    "    with serial.Serial(port, baudrate) as ser:\n",
    "        header = \"type,seq,mac,rssi,rate,sig_mode,mcs,bandwidth,smoothing,not_sounding,aggregation,stbc,fec_coding,sgi,noise_floor,ampdu_cnt,channel,secondary_channel,local_timestamp,ant,sig_len,rx_state,len,first_word,data,datetime\"\n",
    "        \n",
    "        start_time = datetime.now()\n",
    "        \n",
    "        filename = filepath\n",
    "        \n",
    "        if not os.path.exists(filename):\n",
    "            with open(filename, 'w', encoding = 'utf-8') as f:\n",
    "                f.write(header + '\\n')\n",
    "        \n",
    "        if ser.in_waiting > 0:\n",
    "            ser.reset_input_buffer()\n",
    "        \n",
    "        num_collected = 0\n",
    "        \n",
    "        while (datetime.now() - start_time) <= timedelta(seconds = seconds, minutes = minutes, hours = hours):\n",
    "            if ser.in_waiting > 0:\n",
    "                try:\n",
    "                    line = ser.readline().decode('utf-8').strip()\n",
    "                except:\n",
    "                    print(\"DECODE FAILED\")\n",
    "                    continue\n",
    "                line = line + f',{datetime.now()}'\n",
    "                if not line.startswith(\"CSI_DATA\"):\n",
    "                    continue\n",
    "                with open(filename, 'a', newline = '', encoding = 'utf-8') as f:\n",
    "                    f.write(line + '\\n')       \n",
    "        \n",
    "                num_collected += 1\n",
    "                if num_collected % 100 == 0:\n",
    "                    print(f\"{datetime.now()} Number of CSI data collected : {num_collected}\")\n",
    "        \n",
    "        \n",
    "        print(f\"Total : {num_collected}\")\n",
    "    "
   ]
  },
  {
   "cell_type": "code",
   "execution_count": 10,
   "id": "11f57db3-eff0-43e7-9442-2fcbf428389b",
   "metadata": {
    "scrolled": true
   },
   "outputs": [
    {
     "name": "stdout",
     "output_type": "stream",
     "text": [
      "2025-02-28 11:00:59.081263 Number of CSI data collected : 100\n",
      "2025-02-28 11:01:02.391818 Number of CSI data collected : 200\n",
      "2025-02-28 11:01:05.652826 Number of CSI data collected : 300\n",
      "2025-02-28 11:01:08.852792 Number of CSI data collected : 400\n",
      "2025-02-28 11:01:12.057897 Number of CSI data collected : 500\n"
     ]
    },
    {
     "ename": "KeyboardInterrupt",
     "evalue": "",
     "output_type": "error",
     "traceback": [
      "\u001b[1;31m---------------------------------------------------------------------------\u001b[0m",
      "\u001b[1;31mKeyboardInterrupt\u001b[0m                         Traceback (most recent call last)",
      "Cell \u001b[1;32mIn[10], line 7\u001b[0m\n\u001b[0;32m      3\u001b[0m FILEPATH \u001b[38;5;241m=\u001b[39m \u001b[38;5;124m\"\u001b[39m\u001b[38;5;124mcsi_data.csv\u001b[39m\u001b[38;5;124m\"\u001b[39m\n\u001b[0;32m      6\u001b[0m \u001b[38;5;66;03m# reset_esp32(PORT, BAUDRATE)\u001b[39;00m\n\u001b[1;32m----> 7\u001b[0m collect_csi_data(FILEPATH, PORT, BAUDRATE)\n",
      "Cell \u001b[1;32mIn[8], line 19\u001b[0m, in \u001b[0;36mcollect_csi_data\u001b[1;34m(filepath, port, baudrate, seconds, minutes, hours)\u001b[0m\n\u001b[0;32m     16\u001b[0m num_collected \u001b[38;5;241m=\u001b[39m \u001b[38;5;241m0\u001b[39m\n\u001b[0;32m     18\u001b[0m \u001b[38;5;28;01mwhile\u001b[39;00m (datetime\u001b[38;5;241m.\u001b[39mnow() \u001b[38;5;241m-\u001b[39m start_time) \u001b[38;5;241m<\u001b[39m\u001b[38;5;241m=\u001b[39m timedelta(seconds \u001b[38;5;241m=\u001b[39m seconds, minutes \u001b[38;5;241m=\u001b[39m minutes, hours \u001b[38;5;241m=\u001b[39m hours):\n\u001b[1;32m---> 19\u001b[0m     \u001b[38;5;28;01mif\u001b[39;00m ser\u001b[38;5;241m.\u001b[39min_waiting \u001b[38;5;241m>\u001b[39m \u001b[38;5;241m0\u001b[39m:\n\u001b[0;32m     20\u001b[0m         \u001b[38;5;28;01mtry\u001b[39;00m:\n\u001b[0;32m     21\u001b[0m             line \u001b[38;5;241m=\u001b[39m ser\u001b[38;5;241m.\u001b[39mreadline()\u001b[38;5;241m.\u001b[39mdecode(\u001b[38;5;124m'\u001b[39m\u001b[38;5;124mutf-8\u001b[39m\u001b[38;5;124m'\u001b[39m)\u001b[38;5;241m.\u001b[39mstrip()\n",
      "File \u001b[1;32m~\\anaconda3\\envs\\fastbook\\Lib\\site-packages\\serial\\serialwin32.py:258\u001b[0m, in \u001b[0;36mSerial.in_waiting\u001b[1;34m(self)\u001b[0m\n\u001b[0;32m    256\u001b[0m flags \u001b[38;5;241m=\u001b[39m win32\u001b[38;5;241m.\u001b[39mDWORD()\n\u001b[0;32m    257\u001b[0m comstat \u001b[38;5;241m=\u001b[39m win32\u001b[38;5;241m.\u001b[39mCOMSTAT()\n\u001b[1;32m--> 258\u001b[0m \u001b[38;5;28;01mif\u001b[39;00m \u001b[38;5;129;01mnot\u001b[39;00m win32\u001b[38;5;241m.\u001b[39mClearCommError(\u001b[38;5;28mself\u001b[39m\u001b[38;5;241m.\u001b[39m_port_handle, ctypes\u001b[38;5;241m.\u001b[39mbyref(flags), ctypes\u001b[38;5;241m.\u001b[39mbyref(comstat)):\n\u001b[0;32m    259\u001b[0m     \u001b[38;5;28;01mraise\u001b[39;00m SerialException(\u001b[38;5;124m\"\u001b[39m\u001b[38;5;124mClearCommError failed (\u001b[39m\u001b[38;5;132;01m{!r}\u001b[39;00m\u001b[38;5;124m)\u001b[39m\u001b[38;5;124m\"\u001b[39m\u001b[38;5;241m.\u001b[39mformat(ctypes\u001b[38;5;241m.\u001b[39mWinError()))\n\u001b[0;32m    260\u001b[0m \u001b[38;5;28;01mreturn\u001b[39;00m comstat\u001b[38;5;241m.\u001b[39mcbInQue\n",
      "\u001b[1;31mKeyboardInterrupt\u001b[0m: "
     ]
    }
   ],
   "source": [
    "PORT = \"COM7\"\n",
    "BAUDRATE = \"921600\"\n",
    "FILEPATH = \"csi_data.csv\"\n",
    "\n",
    "\n",
    "# reset_esp32(PORT, BAUDRATE)\n",
    "collect_csi_data(FILEPATH, PORT, BAUDRATE)"
   ]
  },
  {
   "cell_type": "code",
   "execution_count": null,
   "id": "cedfab3c-b095-48f4-82d1-2a792d10da0b",
   "metadata": {},
   "outputs": [],
   "source": []
  }
 ],
 "metadata": {
  "kernelspec": {
   "display_name": "fastbook",
   "language": "python",
   "name": "fastbook"
  },
  "language_info": {
   "codemirror_mode": {
    "name": "ipython",
    "version": 3
   },
   "file_extension": ".py",
   "mimetype": "text/x-python",
   "name": "python",
   "nbconvert_exporter": "python",
   "pygments_lexer": "ipython3",
   "version": "3.12.7"
  }
 },
 "nbformat": 4,
 "nbformat_minor": 5
}
